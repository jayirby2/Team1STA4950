{
 "cells": [
  {
   "cell_type": "code",
   "execution_count": 3,
   "id": "initial_id",
   "metadata": {
    "collapsed": true,
    "ExecuteTime": {
     "end_time": "2025-10-18T01:13:26.297096300Z",
     "start_time": "2025-10-18T01:13:26.259956Z"
    }
   },
   "outputs": [],
   "source": [
    "import pandas as pd\n",
    "import matplotlib.pyplot as plt\n",
    "import seaborn as sns\n",
    "import numpy as np\n",
    "import pygam as pg\n",
    "from sklearn.model_selection import train_test_split\n",
    "from pygam import LogisticGAM, s, te\n"
   ]
  },
  {
   "cell_type": "code",
   "execution_count": 4,
   "outputs": [],
   "source": [
    "#Seeing all columns\n",
    "pd.set_option('display.max_columns', None)\n",
    "\n",
    "# Loading in cleaned Dataset with sweetspot feature\n",
    "pitches_ss = pd.read_csv(\"BIP_with_GIDP_SweetSpot.csv\")\n"
   ],
   "metadata": {
    "collapsed": false,
    "ExecuteTime": {
     "end_time": "2025-10-18T01:13:31.929771500Z",
     "start_time": "2025-10-18T01:13:27.056766800Z"
    }
   },
   "id": "1267e230684ca960"
  },
  {
   "cell_type": "code",
   "execution_count": 5,
   "outputs": [
    {
     "data": {
      "text/plain": "                       gameid GameDate  ab  pitchnum  inning  teambat  balls  \\\n0  2022/04/07/cinmlb-atlmlb-1  08:00.0   3         3       1        0      2   \n1  2022/04/07/cinmlb-atlmlb-1  08:00.0   6         3       1        1      1   \n2  2022/04/07/cinmlb-atlmlb-1  08:00.0   7         2       1        1      0   \n3  2022/04/07/cinmlb-atlmlb-1  08:00.0  10         3       2        0      1   \n4  2022/04/07/cinmlb-atlmlb-1  08:00.0  11         3       2        0      2   \n\n   strikes  outs  visscore  homscore       pitcher pitcherthrows  \\\n0        0     2         0         0    Fried, Max             L   \n1        1     2         0         0  Mahle, Tyler             R   \n2        1     2         0         0  Mahle, Tyler             R   \n3        1     1         0         0    Fried, Max             L   \n4        0     1         0         0    Fried, Max             L   \n\n            batter batterside pitchresult           pitchresult_desc  \\\n0      Pham, Tommy          R           X     Hit Into Play - Out(s)   \n1    Riley, Austin          R           D  Hit Into Play - No Out(s)   \n2   Ozuna, Marcell          R           X     Hit Into Play - Out(s)   \n3     Senzel, Nick          R           D  Hit Into Play - No Out(s)   \n4  Moustakas, Mike          L           X     Hit Into Play - Out(s)   \n\n   eventtype metrics_pitching_position pitchname pitchname_desc  spinrate  \\\n0  field_out                   Stretch        FF   Four-seam FB  2176.828   \n1     single                    Windup        FF   Four-seam FB  2360.456   \n2  field_out                   Stretch        SL         Slider  2663.398   \n3     single                   Stretch        SL         Slider  2307.948   \n4  field_out                   Stretch        FF   Four-seam FB  2167.002   \n\n   relspeed  horzbreak  inducedvertbreak  vertbreak  platelocside  \\\n0  95.56983   2.139670         11.539330  -18.21491     -1.113873   \n1  93.33314   9.302727         16.755390  -14.57288     -0.499844   \n2  84.64002  -4.788012          1.895149  -35.77917     -0.035831   \n3  89.99753   4.627371          3.820850  -29.52298      0.035648   \n4  95.81812   0.946951         14.476550  -15.27192     -0.957702   \n\n   platelocheight  ExitSpeed  VExitAngle  HExitAngle  initposx  initposy  \\\n0        2.525816   55.31276  -42.227200   -0.448136     0.882        50   \n1        2.849501   91.72955   -0.069351   12.199050    -2.658        50   \n2        2.105335  100.97140   36.611920  -17.393650    -2.744        50   \n3        2.418733   98.19635    8.123025   -3.759704     1.352        50   \n4        2.325284   69.13850   64.647930   -1.996992     0.921        50   \n\n   initposz  hometeam_id            Home  awayteam_id          Visitor  \\\n0     6.069          144  Atlanta Braves          113  Cincinnati Reds   \n1     5.441          144  Atlanta Braves          113  Cincinnati Reds   \n2     5.532          144  Atlanta Braves          113  Cincinnati Reds   \n3     6.026          144  Atlanta Braves          113  Cincinnati Reds   \n4     6.013          144  Atlanta Braves          113  Cincinnati Reds   \n\n   venue_id   venue_name                                    video_broadcast  \\\n0      4705  Truist Park  https://sporty-clips.mlb.com/R3hWZExfV0ZRVkV3d...   \n1      4705  Truist Park  https://sporty-clips.mlb.com/R3hWZExfV0ZRVkV3d...   \n2      4705  Truist Park  https://sporty-clips.mlb.com/R3hWZExfV0ZRVkV3d...   \n3      4705  Truist Park  https://sporty-clips.mlb.com/R3hWZExfV0ZRVkV3d...   \n4      4705  Truist Park  https://sporty-clips.mlb.com/R3hWZExfV0ZRVkV3d...   \n\n   GIDP_SweetSpot  \n0               0  \n1               0  \n2               0  \n3               0  \n4               0  ",
      "text/html": "<div>\n<style scoped>\n    .dataframe tbody tr th:only-of-type {\n        vertical-align: middle;\n    }\n\n    .dataframe tbody tr th {\n        vertical-align: top;\n    }\n\n    .dataframe thead th {\n        text-align: right;\n    }\n</style>\n<table border=\"1\" class=\"dataframe\">\n  <thead>\n    <tr style=\"text-align: right;\">\n      <th></th>\n      <th>gameid</th>\n      <th>GameDate</th>\n      <th>ab</th>\n      <th>pitchnum</th>\n      <th>inning</th>\n      <th>teambat</th>\n      <th>balls</th>\n      <th>strikes</th>\n      <th>outs</th>\n      <th>visscore</th>\n      <th>homscore</th>\n      <th>pitcher</th>\n      <th>pitcherthrows</th>\n      <th>batter</th>\n      <th>batterside</th>\n      <th>pitchresult</th>\n      <th>pitchresult_desc</th>\n      <th>eventtype</th>\n      <th>metrics_pitching_position</th>\n      <th>pitchname</th>\n      <th>pitchname_desc</th>\n      <th>spinrate</th>\n      <th>relspeed</th>\n      <th>horzbreak</th>\n      <th>inducedvertbreak</th>\n      <th>vertbreak</th>\n      <th>platelocside</th>\n      <th>platelocheight</th>\n      <th>ExitSpeed</th>\n      <th>VExitAngle</th>\n      <th>HExitAngle</th>\n      <th>initposx</th>\n      <th>initposy</th>\n      <th>initposz</th>\n      <th>hometeam_id</th>\n      <th>Home</th>\n      <th>awayteam_id</th>\n      <th>Visitor</th>\n      <th>venue_id</th>\n      <th>venue_name</th>\n      <th>video_broadcast</th>\n      <th>GIDP_SweetSpot</th>\n    </tr>\n  </thead>\n  <tbody>\n    <tr>\n      <th>0</th>\n      <td>2022/04/07/cinmlb-atlmlb-1</td>\n      <td>08:00.0</td>\n      <td>3</td>\n      <td>3</td>\n      <td>1</td>\n      <td>0</td>\n      <td>2</td>\n      <td>0</td>\n      <td>2</td>\n      <td>0</td>\n      <td>0</td>\n      <td>Fried, Max</td>\n      <td>L</td>\n      <td>Pham, Tommy</td>\n      <td>R</td>\n      <td>X</td>\n      <td>Hit Into Play - Out(s)</td>\n      <td>field_out</td>\n      <td>Stretch</td>\n      <td>FF</td>\n      <td>Four-seam FB</td>\n      <td>2176.828</td>\n      <td>95.56983</td>\n      <td>2.139670</td>\n      <td>11.539330</td>\n      <td>-18.21491</td>\n      <td>-1.113873</td>\n      <td>2.525816</td>\n      <td>55.31276</td>\n      <td>-42.227200</td>\n      <td>-0.448136</td>\n      <td>0.882</td>\n      <td>50</td>\n      <td>6.069</td>\n      <td>144</td>\n      <td>Atlanta Braves</td>\n      <td>113</td>\n      <td>Cincinnati Reds</td>\n      <td>4705</td>\n      <td>Truist Park</td>\n      <td>https://sporty-clips.mlb.com/R3hWZExfV0ZRVkV3d...</td>\n      <td>0</td>\n    </tr>\n    <tr>\n      <th>1</th>\n      <td>2022/04/07/cinmlb-atlmlb-1</td>\n      <td>08:00.0</td>\n      <td>6</td>\n      <td>3</td>\n      <td>1</td>\n      <td>1</td>\n      <td>1</td>\n      <td>1</td>\n      <td>2</td>\n      <td>0</td>\n      <td>0</td>\n      <td>Mahle, Tyler</td>\n      <td>R</td>\n      <td>Riley, Austin</td>\n      <td>R</td>\n      <td>D</td>\n      <td>Hit Into Play - No Out(s)</td>\n      <td>single</td>\n      <td>Windup</td>\n      <td>FF</td>\n      <td>Four-seam FB</td>\n      <td>2360.456</td>\n      <td>93.33314</td>\n      <td>9.302727</td>\n      <td>16.755390</td>\n      <td>-14.57288</td>\n      <td>-0.499844</td>\n      <td>2.849501</td>\n      <td>91.72955</td>\n      <td>-0.069351</td>\n      <td>12.199050</td>\n      <td>-2.658</td>\n      <td>50</td>\n      <td>5.441</td>\n      <td>144</td>\n      <td>Atlanta Braves</td>\n      <td>113</td>\n      <td>Cincinnati Reds</td>\n      <td>4705</td>\n      <td>Truist Park</td>\n      <td>https://sporty-clips.mlb.com/R3hWZExfV0ZRVkV3d...</td>\n      <td>0</td>\n    </tr>\n    <tr>\n      <th>2</th>\n      <td>2022/04/07/cinmlb-atlmlb-1</td>\n      <td>08:00.0</td>\n      <td>7</td>\n      <td>2</td>\n      <td>1</td>\n      <td>1</td>\n      <td>0</td>\n      <td>1</td>\n      <td>2</td>\n      <td>0</td>\n      <td>0</td>\n      <td>Mahle, Tyler</td>\n      <td>R</td>\n      <td>Ozuna, Marcell</td>\n      <td>R</td>\n      <td>X</td>\n      <td>Hit Into Play - Out(s)</td>\n      <td>field_out</td>\n      <td>Stretch</td>\n      <td>SL</td>\n      <td>Slider</td>\n      <td>2663.398</td>\n      <td>84.64002</td>\n      <td>-4.788012</td>\n      <td>1.895149</td>\n      <td>-35.77917</td>\n      <td>-0.035831</td>\n      <td>2.105335</td>\n      <td>100.97140</td>\n      <td>36.611920</td>\n      <td>-17.393650</td>\n      <td>-2.744</td>\n      <td>50</td>\n      <td>5.532</td>\n      <td>144</td>\n      <td>Atlanta Braves</td>\n      <td>113</td>\n      <td>Cincinnati Reds</td>\n      <td>4705</td>\n      <td>Truist Park</td>\n      <td>https://sporty-clips.mlb.com/R3hWZExfV0ZRVkV3d...</td>\n      <td>0</td>\n    </tr>\n    <tr>\n      <th>3</th>\n      <td>2022/04/07/cinmlb-atlmlb-1</td>\n      <td>08:00.0</td>\n      <td>10</td>\n      <td>3</td>\n      <td>2</td>\n      <td>0</td>\n      <td>1</td>\n      <td>1</td>\n      <td>1</td>\n      <td>0</td>\n      <td>0</td>\n      <td>Fried, Max</td>\n      <td>L</td>\n      <td>Senzel, Nick</td>\n      <td>R</td>\n      <td>D</td>\n      <td>Hit Into Play - No Out(s)</td>\n      <td>single</td>\n      <td>Stretch</td>\n      <td>SL</td>\n      <td>Slider</td>\n      <td>2307.948</td>\n      <td>89.99753</td>\n      <td>4.627371</td>\n      <td>3.820850</td>\n      <td>-29.52298</td>\n      <td>0.035648</td>\n      <td>2.418733</td>\n      <td>98.19635</td>\n      <td>8.123025</td>\n      <td>-3.759704</td>\n      <td>1.352</td>\n      <td>50</td>\n      <td>6.026</td>\n      <td>144</td>\n      <td>Atlanta Braves</td>\n      <td>113</td>\n      <td>Cincinnati Reds</td>\n      <td>4705</td>\n      <td>Truist Park</td>\n      <td>https://sporty-clips.mlb.com/R3hWZExfV0ZRVkV3d...</td>\n      <td>0</td>\n    </tr>\n    <tr>\n      <th>4</th>\n      <td>2022/04/07/cinmlb-atlmlb-1</td>\n      <td>08:00.0</td>\n      <td>11</td>\n      <td>3</td>\n      <td>2</td>\n      <td>0</td>\n      <td>2</td>\n      <td>0</td>\n      <td>1</td>\n      <td>0</td>\n      <td>0</td>\n      <td>Fried, Max</td>\n      <td>L</td>\n      <td>Moustakas, Mike</td>\n      <td>L</td>\n      <td>X</td>\n      <td>Hit Into Play - Out(s)</td>\n      <td>field_out</td>\n      <td>Stretch</td>\n      <td>FF</td>\n      <td>Four-seam FB</td>\n      <td>2167.002</td>\n      <td>95.81812</td>\n      <td>0.946951</td>\n      <td>14.476550</td>\n      <td>-15.27192</td>\n      <td>-0.957702</td>\n      <td>2.325284</td>\n      <td>69.13850</td>\n      <td>64.647930</td>\n      <td>-1.996992</td>\n      <td>0.921</td>\n      <td>50</td>\n      <td>6.013</td>\n      <td>144</td>\n      <td>Atlanta Braves</td>\n      <td>113</td>\n      <td>Cincinnati Reds</td>\n      <td>4705</td>\n      <td>Truist Park</td>\n      <td>https://sporty-clips.mlb.com/R3hWZExfV0ZRVkV3d...</td>\n      <td>0</td>\n    </tr>\n  </tbody>\n</table>\n</div>"
     },
     "execution_count": 5,
     "metadata": {},
     "output_type": "execute_result"
    }
   ],
   "source": [
    "pitches_ss.head()"
   ],
   "metadata": {
    "collapsed": false,
    "ExecuteTime": {
     "end_time": "2025-10-18T01:13:32.141903900Z",
     "start_time": "2025-10-18T01:13:31.933804200Z"
    }
   },
   "id": "d6ca5eb4610cef85"
  },
  {
   "cell_type": "markdown",
   "source": [
    "Recreating existing GAMs"
   ],
   "metadata": {
    "collapsed": false
   },
   "id": "b0194153335838f1"
  },
  {
   "cell_type": "code",
   "execution_count": 6,
   "outputs": [],
   "source": [
    "pitches_ss = pitches_ss.dropna()"
   ],
   "metadata": {
    "collapsed": false,
    "ExecuteTime": {
     "end_time": "2025-10-18T01:13:32.602518Z",
     "start_time": "2025-10-18T01:13:32.130172800Z"
    }
   },
   "id": "8b46af49af77be81"
  },
  {
   "cell_type": "code",
   "execution_count": 7,
   "outputs": [],
   "source": [
    "# Create four different subsets based on pitcher-batter handedness\n",
    "RHP_RHH = pitches_ss[(pitches_ss['pitcherthrows'] == 'R') & (pitches_ss['batterside'] == 'R')]\n",
    "RHP_LHH = pitches_ss[(pitches_ss['pitcherthrows'] == 'R') & (pitches_ss['batterside'] == 'L')]\n",
    "LHP_RHH = pitches_ss[(pitches_ss['pitcherthrows'] == 'L') & (pitches_ss['batterside'] ==  'R')]\n",
    "LHP_LHH = pitches_ss[(pitches_ss['pitcherthrows'] == 'L') & (pitches_ss['batterside'] == 'L')]"
   ],
   "metadata": {
    "collapsed": false,
    "ExecuteTime": {
     "end_time": "2025-10-18T01:13:35.510473700Z",
     "start_time": "2025-10-18T01:13:34.731200700Z"
    }
   },
   "id": "14e95be037af9245"
  },
  {
   "cell_type": "code",
   "execution_count": 9,
   "outputs": [],
   "source": [
    "#Recreating Gams Jay made in analysis.ipynb using \n",
    "\n",
    "#RHP V RHH\n",
    "X_RR = RHP_RHH[['spinrate', 'relspeed', 'horzbreak', 'inducedvertbreak',\n",
    "            'vertbreak', 'platelocside', 'platelocheight', 'initposx', 'initposz']]\n",
    "Y_RR = RHP_RHH['GIDP_SweetSpot']\n",
    "\n",
    "X_train_RR, X_test_RR, y_train_RR, y_test_RR = train_test_split(\n",
    "    np.array(X_RR), np.array(Y_RR),\n",
    "    test_size=0.2,\n",
    "    random_state=42,\n",
    "    stratify=np.array(Y_RR)\n",
    ")\n",
    "\n",
    "\n"
   ],
   "metadata": {
    "collapsed": false,
    "ExecuteTime": {
     "end_time": "2025-10-18T01:13:48.862048Z",
     "start_time": "2025-10-18T01:13:48.756391200Z"
    }
   },
   "id": "d57aef7e4e069b63"
  },
  {
   "cell_type": "code",
   "execution_count": 10,
   "outputs": [
    {
     "name": "stdout",
     "output_type": "stream",
     "text": [
      "(116162, 9)\n"
     ]
    }
   ],
   "source": [
    "print(X_train_RR.shape)  # If > 100k rows, try sampling first\n"
   ],
   "metadata": {
    "collapsed": false,
    "ExecuteTime": {
     "end_time": "2025-10-18T01:13:49.561472700Z",
     "start_time": "2025-10-18T01:13:49.531885200Z"
    }
   },
   "id": "7e60a210cba15f75"
  },
  {
   "cell_type": "code",
   "execution_count": 11,
   "outputs": [
    {
     "name": "stderr",
     "output_type": "stream",
     "text": [
      "\u001B[38;2;255;0;0m  0%\u001B[39m \u001B[38;2;255;0;0m(0 of 11)\u001B[39m |                         | Elapsed Time: 0:00:00 ETA:  --:--:--\n",
      "KeyboardInterrupt\n",
      "\n"
     ]
    }
   ],
   "source": [
    "\n",
    "#RHP v LHH\n",
    "X_RL = RHP_LHH[['spinrate', 'relspeed', 'horzbreak', 'inducedvertbreak',\n",
    "            'vertbreak', 'platelocside', 'platelocheight', 'initposx', 'initposz']]\n",
    "Y_RL = RHP_LHH['GIDP_SweetSpot']\n",
    "\n",
    "X_train_RL, X_test_RL, y_train_RL, y_test_RL = train_test_split(\n",
    "    np.array(X_RL), np.array(Y_RL),\n",
    "    test_size=0.2,\n",
    "    random_state=42,\n",
    "    stratify=np.array(Y_RL)\n",
    ")\n",
    "\n",
    "# Grid search for best hyperparameters\n",
    "gam_RL = LogisticGAM(s(0) + s(1) + te(2, 3, 4) + \n",
    "                   te(5, 6) + te(7, 8)).gridsearch(X_train_RL, y_train_RL)"
   ],
   "metadata": {
    "collapsed": false,
    "ExecuteTime": {
     "end_time": "2025-10-18T01:16:02.259069100Z",
     "start_time": "2025-10-18T01:13:52.122219800Z"
    }
   },
   "id": "13f425821c00f98a"
  },
  {
   "cell_type": "code",
   "execution_count": null,
   "outputs": [],
   "source": [
    "\n",
    "#LHP v RHH\n",
    "X_LR = LHP_RHH[['spinrate', 'relspeed', 'horzbreak', 'inducedvertbreak',\n",
    "            'vertbreak', 'platelocside', 'platelocheight', 'initposx', 'initposz']]\n",
    "Y_LR = LHP_RHH['GIDP_SweetSpot']\n",
    "\n",
    "X_train_LR, X_test_LR, y_train_LR, y_test_LR = train_test_split(\n",
    "    np.array(X_LR), np.array(Y_LR),\n",
    "    test_size=0.2,\n",
    "    random_state=42,\n",
    "    stratify=np.array(Y_LR)\n",
    ")\n",
    "\n",
    "# Grid search for best hyperparameters\n",
    "gam_LR = LogisticGAM(s(0) + s(1) + te(2, 3, 4) + \n",
    "                   te(5, 6) + te(7, 8)).gridsearch(X_train_LR, y_train_LR)\n"
   ],
   "metadata": {
    "collapsed": false,
    "ExecuteTime": {
     "start_time": "2025-10-18T01:16:02.245512900Z"
    }
   },
   "id": "e10da99df3dfc4e"
  },
  {
   "cell_type": "code",
   "execution_count": null,
   "outputs": [],
   "source": [],
   "metadata": {
    "collapsed": false
   },
   "id": "47cfa21600708bb4"
  }
 ],
 "metadata": {
  "kernelspec": {
   "display_name": "Python 3",
   "language": "python",
   "name": "python3"
  },
  "language_info": {
   "codemirror_mode": {
    "name": "ipython",
    "version": 2
   },
   "file_extension": ".py",
   "mimetype": "text/x-python",
   "name": "python",
   "nbconvert_exporter": "python",
   "pygments_lexer": "ipython2",
   "version": "2.7.6"
  }
 },
 "nbformat": 4,
 "nbformat_minor": 5
}
